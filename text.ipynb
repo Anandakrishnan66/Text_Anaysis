{
 "cells": [
  {
   "cell_type": "code",
   "execution_count": 1,
   "metadata": {},
   "outputs": [],
   "source": [
    "import pandas as pd\n",
    "import requests\n",
    "import bs4 as bfs\n",
    "import nltk\n",
    "from nltk.tokenize import sent_tokenize\n",
    "from nltk.tokenize import word_tokenize\n",
    "from nltk.corpus import stopwords\n",
    "from nltk.tokenize import word_tokenize\n",
    "from nltk.sentiment.vader import SentimentIntensityAnalyzer\n",
    "import string\n",
    "from textblob import TextBlob\n",
    "import csv\n",
    "import numpy as np\n",
    "import openpyxl as op"
   ]
  },
  {
   "cell_type": "code",
   "execution_count": 4,
   "metadata": {},
   "outputs": [
    {
     "name": "stdout",
     "output_type": "stream",
     "text": [
      "                                                      URL\n",
      "URL_ID                                                   \n",
      "1       https://insights.blackcoffer.com/how-is-login-...\n",
      "2       https://insights.blackcoffer.com/how-does-ai-h...\n",
      "3       https://insights.blackcoffer.com/ai-and-its-im...\n",
      "4       https://insights.blackcoffer.com/how-do-deep-l...\n",
      "5       https://insights.blackcoffer.com/how-artificia...\n",
      "...                                                   ...\n",
      "167     https://insights.blackcoffer.com/role-big-data...\n",
      "168     https://insights.blackcoffer.com/sales-forecas...\n",
      "169     https://insights.blackcoffer.com/detect-data-e...\n",
      "170     https://insights.blackcoffer.com/data-exfiltra...\n",
      "171     https://insights.blackcoffer.com/impacts-of-co...\n",
      "\n",
      "[170 rows x 1 columns]\n"
     ]
    }
   ],
   "source": [
    "\n",
    "df=pd.read_csv(\"Input.xlsx - Sheet1.csv\",index_col=0)\n",
    "print(df)"
   ]
  },
  {
   "cell_type": "code",
   "execution_count": null,
   "metadata": {},
   "outputs": [],
   "source": [
    "li=[url for url in df['URL']]\n",
    "\n",
    "text=[]\n",
    "\n",
    "for url in li:\n",
    "    text.append(requests.get(url,headers={\"User-Agent\":\"XY\"}))"
   ]
  }
 ],
 "metadata": {
  "kernelspec": {
   "display_name": "Python 3",
   "language": "python",
   "name": "python3"
  },
  "language_info": {
   "codemirror_mode": {
    "name": "ipython",
    "version": 3
   },
   "file_extension": ".py",
   "mimetype": "text/x-python",
   "name": "python",
   "nbconvert_exporter": "python",
   "pygments_lexer": "ipython3",
   "version": "3.12.0"
  }
 },
 "nbformat": 4,
 "nbformat_minor": 2
}
